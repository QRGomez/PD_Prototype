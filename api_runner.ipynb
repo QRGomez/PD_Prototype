{
 "cells": [
  {
   "cell_type": "code",
   "execution_count": 1,
   "metadata": {},
   "outputs": [
    {
     "name": "stdout",
     "output_type": "stream",
     "text": [
      "Public URL: https://db86-136-158-1-127.ngrok-free.app\n"
     ]
    }
   ],
   "source": [
    "import getpass\n",
    "import nest_asyncio\n",
    "from pyngrok import ngrok,conf\n",
    "import uvicorn\n",
    "\n",
    "#2cHzVyZBZEZHEc97f0CCy68Mllm_556CW86wTyHC4hCehG9Wn\n",
    "conf.get_default().auth_token = getpass.getpass('')\n",
    "ngrok_tunnel = ngrok.connect(8000)\n",
    "print('Public URL:', ngrok_tunnel.public_url)"
   ]
  }
 ],
 "metadata": {
  "kernelspec": {
   "display_name": "base",
   "language": "python",
   "name": "python3"
  },
  "language_info": {
   "codemirror_mode": {
    "name": "ipython",
    "version": 3
   },
   "file_extension": ".py",
   "mimetype": "text/x-python",
   "name": "python",
   "nbconvert_exporter": "python",
   "pygments_lexer": "ipython3",
   "version": "3.11.4"
  }
 },
 "nbformat": 4,
 "nbformat_minor": 2
}
