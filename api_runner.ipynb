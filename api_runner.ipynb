{
 "cells": [
  {
   "cell_type": "code",
   "execution_count": 2,
   "metadata": {},
   "outputs": [
    {
     "name": "stdout",
     "output_type": "stream",
     "text": [
      "Public URL: https://24ec-138-199-22-107.ngrok-free.app\n"
     ]
    },
    {
     "name": "stderr",
     "output_type": "stream",
     "text": [
      "t=2024-02-13T11:38:48+0800 lvl=warn msg=\"Stopping forwarder\" name=http-8000-c3eeb07d-15d3-4cca-9a44-b25829af9cb6 acceptErr=\"failed to accept connection: Listener closed\"\n"
     ]
    }
   ],
   "source": [
    "import getpass\n",
    "import nest_asyncio\n",
    "from pyngrok import ngrok,conf\n",
    "import uvicorn\n",
    "\n",
    "#2cHzVyZBZEZHEc97f0CCy68Mllm_556CW86wTyHC4hCehG9Wn\n",
    "conf.get_default().auth_token = getpass.getpass('')\n",
    "ngrok_tunnel = ngrok.connect(8000)\n",
    "print('Public URL:', ngrok_tunnel.public_url)"
   ]
  }
 ],
 "metadata": {
  "kernelspec": {
   "display_name": "base",
   "language": "python",
   "name": "python3"
  },
  "language_info": {
   "codemirror_mode": {
    "name": "ipython",
    "version": 3
   },
   "file_extension": ".py",
   "mimetype": "text/x-python",
   "name": "python",
   "nbconvert_exporter": "python",
   "pygments_lexer": "ipython3",
   "version": "3.11.4"
  }
 },
 "nbformat": 4,
 "nbformat_minor": 2
}
