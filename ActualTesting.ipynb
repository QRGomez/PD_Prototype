{
 "cells": [
  {
   "cell_type": "code",
   "execution_count": 1,
   "metadata": {},
   "outputs": [],
   "source": [
    "import jiwer\n",
    "\n",
    "def calculate_metrics(actual_transcription, model_transcription):\n",
    "    # Calculate WER\n",
    "    wer = jiwer.wer(actual_transcription, model_transcription)\n",
    "    # Calculate CER\n",
    "    cer = jiwer.cer(actual_transcription, model_transcription)\n",
    "    # Calculate number of words in actual transcription\n",
    "    num_words = len(actual_transcription.split())\n",
    "    # Calculate number of characters in actual transcription\n",
    "    num_chars = len(actual_transcription)\n",
    "    # Calculate Correct Words\n",
    "    correct_words  = num_words * wer\n",
    "    # Calculate accuracy\n",
    "    accuracy = (num_words - correct_words)  / num_words\n",
    "\n",
    "    return wer, cer, accuracy,num_words"
   ]
  },
  {
   "cell_type": "code",
   "execution_count": 12,
   "metadata": {},
   "outputs": [
    {
     "name": "stdout",
     "output_type": "stream",
     "text": [
      "Actual:\n",
      " do you think i like necromancy it’s to go to villain abilities which I love necromancy is not it's not a bad thing it's just means you're a healer that was a little late right that's all the necromancer is like you're showed up but the guy was already dead so like it’s not your fault he's still off the ground it's a late healer dude that's all\n",
      "Transcription:\n",
      " do you think i like necromancers to go to villain abilities or to love negro masses not that's not a bad thing it's just means you're a healer that's a little late ruth that's all the necromancer is like you're showed up but the guy was already daddy send a sigh your fault he's still off the ground it's a late healer knew it's all\n",
      "WER: 0.25\n",
      "CER: 0.14492753623188406\n",
      "Accuracy: 0.75\n",
      "Word Count: 68\n"
     ]
    }
   ],
   "source": [
    "import docx2txt\n",
    "\n",
    "def read_doc(file_path):\n",
    "    # Read content from .doc file\n",
    "    text = docx2txt.process(file_path)\n",
    "    return text\n",
    "\n",
    "# Example usage\n",
    "actual_file_path = \"Testing\\\\video_tests\\\\sample_video10(actual).doc\"\n",
    "transcription_file_path = \"Testing\\\\video_tests\\\\sample_video10(transcription).doc\"\n",
    "\n",
    "actual_value = read_doc(actual_file_path)\n",
    "transcription_value = read_doc(transcription_file_path)\n",
    "\n",
    "print(\"Actual:\\n\",actual_value)\n",
    "print(\"Transcription:\\n\",transcription_value)\n",
    "\n",
    "\n",
    "wer, cer, accuracy, num_words = calculate_metrics(actual_value,transcription_value)\n",
    "\n",
    "print(\"WER:\", wer)\n",
    "print(\"CER:\", cer)\n",
    "print(\"Accuracy:\" ,accuracy)\n",
    "print(\"Word Count:\" ,num_words)"
   ]
  },
  {
   "cell_type": "code",
   "execution_count": 5,
   "metadata": {},
   "outputs": [
    {
     "name": "stdout",
     "output_type": "stream",
     "text": [
      "Collecting pybraille\n",
      "  Using cached pybraille-1.0.0.tar.gz (3.1 kB)\n",
      "  Preparing metadata (setup.py): started\n",
      "  Preparing metadata (setup.py): finished with status 'done'\n",
      "Building wheels for collected packages: pybraille\n",
      "  Building wheel for pybraille (setup.py): started\n",
      "  Building wheel for pybraille (setup.py): finished with status 'done'\n",
      "  Created wheel for pybraille: filename=pybraille-1.0.0-py3-none-any.whl size=3537 sha256=0f8fc2235a41826cdb4c42f27eba8b93989bd69494863f4976b611b1cda252e8\n",
      "  Stored in directory: c:\\users\\user\\appdata\\local\\pip\\cache\\wheels\\49\\bb\\1e\\13133341b04745e65123ff1ab3630f1b4719c0d55ea0ce482c\n",
      "Successfully built pybraille\n",
      "Installing collected packages: pybraille\n",
      "Successfully installed pybraille-1.0.0\n"
     ]
    },
    {
     "name": "stderr",
     "output_type": "stream",
     "text": [
      "WARNING: Ignoring invalid distribution ~pencv-python-headless (C:\\Users\\User\\AppData\\Roaming\\Python\\Python311\\site-packages)\n",
      "WARNING: Ignoring invalid distribution ~pencv-python-headless (C:\\Users\\User\\AppData\\Roaming\\Python\\Python311\\site-packages)\n",
      "WARNING: Ignoring invalid distribution ~pencv-python-headless (C:\\Users\\User\\AppData\\Roaming\\Python\\Python311\\site-packages)\n",
      "DEPRECATION: textract 1.6.5 has a non-standard dependency specifier extract-msg<=0.29.*. pip 23.3 will enforce this behaviour change. A possible replacement is to upgrade to a newer version of textract or contact the author to suggest that they release a version with a conforming dependency specifiers. Discussion can be found at https://github.com/pypa/pip/issues/12063\n",
      "WARNING: Ignoring invalid distribution ~pencv-python-headless (C:\\Users\\User\\AppData\\Roaming\\Python\\Python311\\site-packages)\n",
      "WARNING: Ignoring invalid distribution ~pencv-python-headless (C:\\Users\\User\\AppData\\Roaming\\Python\\Python311\\site-packages)\n",
      "WARNING: Ignoring invalid distribution ~pencv-python-headless (C:\\Users\\User\\AppData\\Roaming\\Python\\Python311\\site-packages)\n"
     ]
    }
   ],
   "source": [
    "!pip install pybraille"
   ]
  },
  {
   "cell_type": "code",
   "execution_count": 7,
   "metadata": {},
   "outputs": [],
   "source": [
    "from pybraille import convertText"
   ]
  },
  {
   "cell_type": "code",
   "execution_count": 144,
   "metadata": {},
   "outputs": [
    {
     "name": "stdout",
     "output_type": "stream",
     "text": [
      "⠠⠓⠠⠑⠠⠇⠠⠇⠕⠂ ⠠⠁⠠⠎⠠⠙⠖ ⠼⠁⠃⠉⠁⠃\n"
     ]
    }
   ],
   "source": [
    "text = \"HELLo, ASD! 123ab\"\n",
    "braille_text = convertText(text)\n",
    "print(braille_text)"
   ]
  },
  {
   "cell_type": "code",
   "execution_count": null,
   "metadata": {},
   "outputs": [],
   "source": []
  },
  {
   "cell_type": "code",
   "execution_count": 89,
   "metadata": {},
   "outputs": [],
   "source": [
    "alphaBraille = ['⠁', '⠃', '⠉', '⠙', '⠑', '⠋', '⠛', '⠓', '⠊', '⠚', '⠅', '⠇',\n",
    "                '⠍', '⠝', '⠕', '⠏', '⠟', '⠗', '⠎', '⠞', '⠥', '⠧', '⠺', '⠭', \n",
    "                '⠽', '⠵', ' ']\n",
    "numBraille = ['⠁', '⠃', '⠉', '⠙', '⠑', '⠋', '⠛', '⠓', '⠊', '⠚']\n",
    "alphabet = ['a', 'b', 'c', 'd', 'e', 'f', 'g', 'h', 'i', 'j', 'k', 'l', 'm',\n",
    "            'n', 'o', 'p', 'q', 'r', 's', 't', 'u', 'v', 'w', 'x', 'y', 'z', ' ']\n",
    "nums = ['1', '2', '3', '4', '5', '6', '7', '8', '9', '0']\n",
    "punctuation = [',', ';', ':', '.', '?', '!', '(', ')', '/', '-']\n",
    "punctuationBraille = ['⠂', '⠆', '⠒', '⠲', '⠦', '⠖', '⠐⠣', '⠐⠜', '⠸⠌', '⠤']\n",
    "characters = ['&', '*', '@', '©', '®', '™', '°']\n",
    "characterBraille = ['⠈⠯', '⠐⠔', '⠈⠁', '⠘⠉', '⠘⠗', '⠘⠞', '⠘⠚']\n",
    "\n",
    "# Grade 1 UEB prefixes\n",
    "grade1UEBPrefixes = {\n",
    "    \"capital\": \"⠠\",\n",
    "    \"numeric\": \"⠼\",\n",
    "    \"grade1\" : \"⠰\",\n",
    "    \"capital_terminator\": \"⠠⠄\"\n",
    "}"
   ]
  },
  {
   "cell_type": "code",
   "execution_count": 222,
   "metadata": {},
   "outputs": [],
   "source": [
    "def translate_to_braille(text):\n",
    "    if not text:\n",
    "        return ' '  # Return a space if the input text is empty or null\n",
    "    \n",
    "    inputString = ''\n",
    "    words = text.split()\n",
    "    for word_index, word in enumerate(words):\n",
    "        numeric_prefix_used = False\n",
    "        double_capital_used = False\n",
    "        for i, char in enumerate(word):\n",
    "            if char.isdigit():\n",
    "                # If the character is a digit, handle it separately\n",
    "                if not numeric_prefix_used:\n",
    "                    # Use numeric prefix only once for a sequence of numbers\n",
    "                    inputString += grade1UEBPrefixes[\"numeric\"]\n",
    "                    numeric_prefix_used = True\n",
    "                inputString += numBraille[nums.index(char)]\n",
    "            elif char.isupper():\n",
    "                # If the character is uppercase, apply the appropriate capitalization rules\n",
    "                if not double_capital_used:\n",
    "                    # Check if there are consecutive uppercase characters following\n",
    "                    has_consecutive_upper = any(c.isupper() for c in word[i+1:])\n",
    "                    if has_consecutive_upper:\n",
    "                        inputString += grade1UEBPrefixes[\"capital\"] * 2\n",
    "                        double_capital_used = True\n",
    "                    else:\n",
    "                        inputString += grade1UEBPrefixes[\"capital\"]\n",
    "                    inputString += alphaBraille[alphabet.index(char.lower())]\n",
    "                elif not double_capital_used:\n",
    "                    # Use capital prefix for the first uppercase character in the word\n",
    "                    inputString += grade1UEBPrefixes[\"capital\"]\n",
    "                inputString += alphaBraille[alphabet.index(char.lower())]\n",
    "            elif char in alphabet:\n",
    "                # If the character is in the alphabet, directly convert it to Braille\n",
    "                if double_capital_used:\n",
    "                    # Found a character that is not uppercase, insert capital terminator\n",
    "                    inputString += grade1UEBPrefixes[\"capital_terminator\"]\n",
    "                    double_capital_used = False\n",
    "                    inputString += alphaBraille[alphabet.index(char)]\n",
    "                else:\n",
    "                    inputString += alphaBraille[alphabet.index(char)]\n",
    "            elif char in punctuation:\n",
    "                # If the character is a punctuation mark, convert it to Braille\n",
    "                inputString += punctuationBraille[punctuation.index(char)]\n",
    "            elif char in characters:\n",
    "                # If the character is a special character, convert it to Braille\n",
    "                inputString += characterBraille[characters.index(char)]\n",
    "\n",
    "            # Check the next character to determine prefix usage\n",
    "            if i < len(word) - 1:\n",
    "                next_char = word[i + 1]\n",
    "                if next_char.isdigit() and not numeric_prefix_used:\n",
    "                    # If the next character is a digit and numeric prefix is not used, add numeric prefix\n",
    "                    inputString += grade1UEBPrefixes[\"numeric\"]\n",
    "                    numeric_prefix_used = True\n",
    "                elif not next_char.isdigit() and not next_char.isupper() and next_char in 'abcdefghij' and numeric_prefix_used and word[i].isdigit():\n",
    "                    # If the next character is non-numeric and belongs to 'a-j' range and numeric prefix was used, add grade1 prefix\n",
    "                    inputString += grade1UEBPrefixes[\"grade1\"]\n",
    "                    numeric_prefix_used = False\n",
    "            \n",
    "        inputString += ' ' # Add space between words\n",
    "\n",
    "    return inputString.strip() # Remove trailing space"
   ]
  },
  {
   "cell_type": "code",
   "execution_count": 223,
   "metadata": {},
   "outputs": [
    {
     "name": "stdout",
     "output_type": "stream",
     "text": [
      "⠠⠠⠎⠎⠙⠋⠛⠠⠄⠁⠃⠉⠠⠠⠁⠁⠎⠙⠠⠄⠎⠠⠁⠁⠁⠎⠙⠼⠁⠃⠉⠙ ⠼⠁⠃⠉⠙⠂⠚⠚⠚⠍⠛\n"
     ]
    }
   ],
   "source": [
    "t"
   ]
  },
  {
   "cell_type": "code",
   "execution_count": null,
   "metadata": {},
   "outputs": [],
   "source": []
  }
 ],
 "metadata": {
  "kernelspec": {
   "display_name": "base",
   "language": "python",
   "name": "python3"
  },
  "language_info": {
   "codemirror_mode": {
    "name": "ipython",
    "version": 3
   },
   "file_extension": ".py",
   "mimetype": "text/x-python",
   "name": "python",
   "nbconvert_exporter": "python",
   "pygments_lexer": "ipython3",
   "version": "3.11.4"
  }
 },
 "nbformat": 4,
 "nbformat_minor": 2
}
