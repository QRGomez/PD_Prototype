{
 "cells": [
  {
   "cell_type": "code",
   "execution_count": 8,
   "metadata": {},
   "outputs": [
    {
     "name": "stdout",
     "output_type": "stream",
     "text": [
      "\n",
      ",TH IS A TE/ TEXT \n",
      "\n",
      ".brf file 'output.brf' has been created successfully.\n"
     ]
    }
   ],
   "source": [
    "from pybraille import pybrl as brl\n",
    "from braillecodeToASCII import braille_to_ascii_conversion as b2t\n",
    "\n",
    "def create_brf_from_text(text, output_file):\n",
    "    \n",
    "    # Convert the text to braille\n",
    "    text = brl.preprocess(text)\n",
    "    brltextUni = brl.translate(text) \n",
    "    brltext = brl.toUnicodeSymbols(brltextUni, flatten=True)\n",
    "\n",
    "    brf = b2t(brltext)\n",
    "\n",
    "    brf = f\"\\n{brf.upper()}\\n\"\n",
    "    print(brf)\n",
    "    # Write the braille content to a .brf file\n",
    "    with open(output_file, 'w', encoding='utf-8') as brf_file:\n",
    "        brf_file.write(brf)\n",
    "\n",
    "# Example text string\n",
    "text_string = \"\"\"This is a test text\"\"\"\n",
    "\n",
    "# Output .brf file path\n",
    "output_file = \"output.brf\"\n",
    "\n",
    "# Create .brf file from text string\n",
    "create_brf_from_text(text_string, output_file)\n",
    "\n",
    "print(f\".brf file '{output_file}' has been created successfully.\")\n"
   ]
  },
  {
   "cell_type": "code",
   "execution_count": 10,
   "metadata": {},
   "outputs": [
    {
     "name": "stdout",
     "output_type": "stream",
     "text": [
      "Failed to download file\n"
     ]
    }
   ],
   "source": [
    "import requests\n",
    "\n",
    "def download_file(url, destination):\n",
    "    response = requests.get(url)\n",
    "    if response.status_code == 200:\n",
    "        with open(destination, 'wb') as file:\n",
    "            file.write(response.content)\n",
    "        print(\"File downloaded successfully\")\n",
    "    else:\n",
    "        print(\"Failed to download file\")\n",
    "\n",
    "# Example usage:\n",
    "url = \"http://localhost:8000/download/proofreaderupgradeguide.doc\"\n",
    "destination = \"examplefile.txt\"\n",
    "download_file(url, destination)"
   ]
  },
  {
   "cell_type": "code",
   "execution_count": null,
   "metadata": {},
   "outputs": [],
   "source": []
  }
 ],
 "metadata": {
  "kernelspec": {
   "display_name": "base",
   "language": "python",
   "name": "python3"
  },
  "language_info": {
   "codemirror_mode": {
    "name": "ipython",
    "version": 3
   },
   "file_extension": ".py",
   "mimetype": "text/x-python",
   "name": "python",
   "nbconvert_exporter": "python",
   "pygments_lexer": "ipython3",
   "version": "3.11.4"
  }
 },
 "nbformat": 4,
 "nbformat_minor": 2
}
